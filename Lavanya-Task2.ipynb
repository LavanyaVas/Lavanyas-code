{
 "metadata": {
  "language_info": {
   "codemirror_mode": {
    "name": "ipython",
    "version": 3
   },
   "file_extension": ".py",
   "mimetype": "text/x-python",
   "name": "python",
   "nbconvert_exporter": "python",
   "pygments_lexer": "ipython3",
   "version": "3.9.4"
  },
  "orig_nbformat": 2,
  "kernelspec": {
   "name": "python394jvsc74a57bd04606e9eb6d2f030dfb2ae5bbab5c6958599897a898dca140fc49a1dfbb6b6d63",
   "display_name": "Python 3.9.4 64-bit (windows store)"
  },
  "metadata": {
   "interpreter": {
    "hash": "4606e9eb6d2f030dfb2ae5bbab5c6958599897a898dca140fc49a1dfbb6b6d63"
   }
  }
 },
 "nbformat": 4,
 "nbformat_minor": 2,
 "cells": [
  {
   "cell_type": "code",
   "execution_count": 119,
   "metadata": {},
   "outputs": [
    {
     "output_type": "stream",
     "name": "stdout",
     "text": [
      "joke2\n"
     ]
    }
   ],
   "source": [
    "# Lavanya's Tasks #\n",
    "\n",
    "k = int(input(\"choose a number between 1 to 100: \"))\n",
    "\n",
    "joke1 = \"this is joke1\"\n",
    "joke2 = \"this is joke2\"\n",
    "joke3 = \"this is joke3\"\n",
    "\n",
    "if k < 40:\n",
    "    print(\"joke1\")\n",
    "elif k > 40 and k < 80:\n",
    "    print(\"joke2\")\n",
    "else:\n",
    "    print(\"joke3\")"
   ]
  },
  {
   "cell_type": "code",
   "execution_count": 120,
   "metadata": {},
   "outputs": [
    {
     "output_type": "stream",
     "name": "stdout",
     "text": [
      "Your favourite meal is samosa biryani gulab jamun....with a glass of coke\n"
     ]
    }
   ],
   "source": [
    "starter = input(\"please enter your starter : \")\n",
    "main = input(\"please enter your main: \")\n",
    "dessert = input(\"please enter your favourite dessert :\")\n",
    "drink = input(\"please enter your drink : \")\n",
    "\n",
    "print(\"Your favourite meal is \" + starter + \" \" +  main +\" \"+  dessert  + \"....with a glass of \" + drink)"
   ]
  },
  {
   "cell_type": "code",
   "execution_count": 121,
   "metadata": {
    "tags": []
   },
   "outputs": [
    {
     "output_type": "stream",
     "name": "stdout",
     "text": [
      "£ 1800.0\n£ 1620.0\n£ 1458.0\n£ 1312.2\n£ 1180.98\n£ 1062.882\n£ 956.5938000000001\n"
     ]
    }
   ],
   "source": [
    " bike_value = 2000\n",
    " while bike_value > 1000:\n",
    "     bike_value = bike_value * 0.9\n",
    "     print (\"£\",bike_value)\n",
    "     #bikevalue == bike_value"
   ]
  },
  {
   "cell_type": "code",
   "execution_count": 103,
   "metadata": {},
   "outputs": [
    {
     "output_type": "stream",
     "name": "stdout",
     "text": [
      "6 - 3 = 3\n"
     ]
    }
   ],
   "source": [
    "a = int(input(\"Enter your first number: \"))\n",
    "b = int(input(\"Enter your second number: \"))\n",
    "choice = input(\" Enter the choice of operation + , - , /, % : \" )\n",
    "if choice == \"+\":\n",
    " print(a,'+',b ,\"=\",a + b)\n",
    "elif choice == \"-\" :\n",
    " print(a,'-',b,\"=\",a-b)\n",
    "elif choice == \"/\" :\n",
    " print(a,'/',b,\"=\",a/b)\n",
    "elif choice == \"*\" :\n",
    " print(a,'*',b,\"=\",a*b)\n",
    "elif choice == \"%\" :\n",
    " print(a,'%',b,\"=\",a*b/100)  \n",
    "else:\n",
    " print(\" invalid operation \")     \n"
   ]
  },
  {
   "cell_type": "code",
   "execution_count": 118,
   "metadata": {},
   "outputs": [
    {
     "output_type": "stream",
     "name": "stdout",
     "text": [
      "7 sorry you guessed it wrong the number is 3\n"
     ]
    }
   ],
   "source": [
    "import random\n",
    "y = random.randint(1,10)\n",
    "user_name = input(\"please enter your name:\")\n",
    "guess = input(\"guess a number between 1 to 10\")\n",
    "if guess == 'y':\n",
    " print(user_name,\"you guessed it right\")\n",
    "else:\n",
    "  print(user_name,\"sorry you guessed it wrong the number is\",y )   "
   ]
  },
  {
   "cell_type": "code",
   "execution_count": null,
   "metadata": {},
   "outputs": [],
   "source": []
  }
 ]
}