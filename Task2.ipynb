{
 "metadata": {
  "language_info": {
   "codemirror_mode": {
    "name": "ipython",
    "version": 3
   },
   "file_extension": ".py",
   "mimetype": "text/x-python",
   "name": "python",
   "nbconvert_exporter": "python",
   "pygments_lexer": "ipython3",
   "version": "3.9.4"
  },
  "orig_nbformat": 2,
  "kernelspec": {
   "name": "python394jvsc74a57bd052a3ed018877ddd9c42198a523bcd0a9c8402dcc518456b6fe5f58d1bd939300",
   "display_name": "Python 3.9.4 64-bit ('PythonSoftwareFoundation.Python.3.9_qbz5n2kfra8p0')"
  },
  "metadata": {
   "interpreter": {
    "hash": "52a3ed018877ddd9c42198a523bcd0a9c8402dcc518456b6fe5f58d1bd939300"
   }
  }
 },
 "nbformat": 4,
 "nbformat_minor": 2,
 "cells": [
  {
   "cell_type": "code",
   "execution_count": 1,
   "metadata": {},
   "outputs": [],
   "source": [
    "def function(inp_bvalue,inp_yr):\n",
    "    bike_value = inp_bvalue\n",
    "    year = inp_yr\n",
    "    while bike_value >= 1000:\n",
    "      bike_value = bike_value*0.9\n",
    "      year = year +1\n",
    "      print(\"The bike value is depriciated by 10% so the value is\" + \"£\" + str(bike_value) + \"in\" + str(year))\n"
   ]
  },
  {
   "cell_type": "code",
   "execution_count": 2,
   "metadata": {},
   "outputs": [],
   "source": [
    "bike_value = int(input(\"Enter the value of bike\"))\n",
    "year = int(input(\"Enter the year the bike purchased \"))\n",
    "\n",
    "output = \"The bike value is depriciated by 10% so the value is\" + \"£\" + str(bike_value) + \"in\" + str(year) \n",
    "                \n"
   ]
  },
  {
   "cell_type": "code",
   "execution_count": 3,
   "metadata": {},
   "outputs": [
    {
     "output_type": "stream",
     "name": "stdout",
     "text": [
      "The bike value is depriciated by 10% so the value is£1800.0in2022\nThe bike value is depriciated by 10% so the value is£1620.0in2023\nThe bike value is depriciated by 10% so the value is£1458.0in2024\nThe bike value is depriciated by 10% so the value is£1312.2in2025\nThe bike value is depriciated by 10% so the value is£1180.98in2026\nThe bike value is depriciated by 10% so the value is£1062.882in2027\nThe bike value is depriciated by 10% so the value is£956.5938000000001in2028\nNone\n"
     ]
    }
   ],
   "source": [
    "message = function(bike_value,year)\n",
    "print(message)"
   ]
  },
  {
   "cell_type": "code",
   "execution_count": 4,
   "metadata": {},
   "outputs": [],
   "source": [
    "def procedure_1(inp_num1,inp_oper,inp_num2):\n",
    "    num1 = inp_num1\n",
    "    num2 = inp_num2\n",
    "    choice = inp_oper\n",
    "    #choice = input(\"enter the choice of operatorion  +,-,*,/ :\")\n",
    "    if choice == '+':\n",
    "      print(num1,'+',num2,\"=\",num1+num2)\n",
    "    elif choice =='-':\n",
    "        print(num1,'-',num2,\"=\",num1-num2)\n",
    "    elif choice =='*': \n",
    "        print(num1,'*',num2,\"=\",num1*num2)\n",
    "    elif choice =='/':\n",
    "         print(num1,'/',num2,\"=\",num1/num2)\n",
    "    else:\n",
    "         print(\"invalid operation\")   "
   ]
  },
  {
   "cell_type": "code",
   "execution_count": 5,
   "metadata": {},
   "outputs": [],
   "source": [
    "num1 = int(input(\"enter the number\"))\n",
    "num2 = int(input(\"enter the number\"))  \n",
    "choice = input(\"enter the choice of operatorion  +,-,*,/ :\")\n",
    "\n"
   ]
  },
  {
   "cell_type": "code",
   "execution_count": 6,
   "metadata": {},
   "outputs": [
    {
     "output_type": "stream",
     "name": "stdout",
     "text": [
      "5 * 5 = 25\n"
     ]
    }
   ],
   "source": [
    "procedure_1(num1,choice,num2)"
   ]
  },
  {
   "cell_type": "code",
   "execution_count": null,
   "metadata": {},
   "outputs": [],
   "source": []
  }
 ]
}