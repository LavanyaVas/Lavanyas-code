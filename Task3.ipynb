{
 "metadata": {
  "language_info": {
   "codemirror_mode": {
    "name": "ipython",
    "version": 3
   },
   "file_extension": ".py",
   "mimetype": "text/x-python",
   "name": "python",
   "nbconvert_exporter": "python",
   "pygments_lexer": "ipython3",
   "version": "3.9.5"
  },
  "orig_nbformat": 2,
  "kernelspec": {
   "name": "python395jvsc74a57bd052a3ed018877ddd9c42198a523bcd0a9c8402dcc518456b6fe5f58d1bd939300",
   "display_name": "Python 3.9.5 64-bit ('PythonSoftwareFoundation.Python.3.9_qbz5n2kfra8p0')"
  },
  "metadata": {
   "interpreter": {
    "hash": "52a3ed018877ddd9c42198a523bcd0a9c8402dcc518456b6fe5f58d1bd939300"
   }
  }
 },
 "nbformat": 4,
 "nbformat_minor": 2,
 "cells": [
  {
   "cell_type": "code",
   "execution_count": null,
   "metadata": {},
   "outputs": [],
   "source": [
    "def mark_grade(percent_mark):\n",
    "    p_mark = percent_mark\n",
    "\n",
    "    if p_mark >= 80:\n",
    "        grade = 'A'\n",
    "        print(\"Excelled in exams and achieved the target grade\")        \n",
    "    elif p_mark >= 60:\n",
    "        grade = 'B'\n",
    "        print(\"Good job and didn't achieve the target grade\")\n",
    "    elif p_mark >= 50:\n",
    "        grade = 'C'\n",
    "        print(\"Need to workhard\")\n",
    "    else:\n",
    "        grade ='F' \n",
    "        print(\"Not qualified\")\n",
    " \n",
    "    return grade           \n"
   ]
  },
  {
   "cell_type": "code",
   "execution_count": null,
   "metadata": {},
   "outputs": [],
   "source": [
    "p_mark = int(input(\"Enter the percentage mark :\"))\n",
    "grade = mark_grade(p_mark)\n",
    "print(\"Your grade is : \" ,grade)\n",
    "\n",
    "         \n"
   ]
  },
  {
   "cell_type": "code",
   "execution_count": null,
   "metadata": {},
   "outputs": [],
   "source": [
    "num_store = open(\"numbers.txt\",\"w\")\n",
    "my_1d_list = [3,45,83,21]\n",
    "num_store.write(str(my_1d_list))\n",
    "#num_store.write(\"\\n\")\n",
    "num_store.close()\n"
   ]
  },
  {
   "cell_type": "code",
   "execution_count": null,
   "metadata": {},
   "outputs": [],
   "source": [
    "with open(\"numbers.txt\",\"r\") as num_store:\n",
    "  data = num_store.read().replace('\\n' ,' , ')\n",
    "\n",
    "num_store.close()\n",
    "\n"
   ]
  },
  {
   "cell_type": "code",
   "execution_count": null,
   "metadata": {},
   "outputs": [],
   "source": [
    "print(data)"
   ]
  },
  {
   "cell_type": "code",
   "execution_count": null,
   "metadata": {},
   "outputs": [],
   "source": [
    "num_store = open(\"numbers.txt\", \"a\")\n",
    "num_store.write(\"where has it gone ?\")\n",
    "num_store.write(\"\\n\")\n",
    "\n",
    "num_store.close()"
   ]
  },
  {
   "cell_type": "code",
   "execution_count": null,
   "metadata": {},
   "outputs": [],
   "source": [
    "pip install numpy"
   ]
  },
  {
   "cell_type": "code",
   "execution_count": null,
   "metadata": {},
   "outputs": [],
   "source": [
    "import numpy as np\n",
    "array = np.array([1,2,3,4,5])\n",
    "print(array[2:4])"
   ]
  },
  {
   "cell_type": "code",
   "execution_count": null,
   "metadata": {},
   "outputs": [],
   "source": [
    "#one dimentionalarray\n",
    "import numpy as np\n",
    "array = np.array([0,1,2,3,4,5,6,7,8,9])\n",
    "print(array)\n",
    "output = np.concatenate((np.ones(3),np.ones(3)*2,np.ones(3)*3,np.arange(1,4),np.arange(1,4),np.arange(1,4)))\n",
    "print(output)"
   ]
  },
  {
   "cell_type": "code",
   "execution_count": null,
   "metadata": {},
   "outputs": [],
   "source": [
    "#create a 3x3 numpy array of boolean value true\n",
    "import numpy as np\n",
    "bool_array = np.ones((3,3), dtype = bool)\n",
    "print(bool_array)"
   ]
  },
  {
   "cell_type": "code",
   "execution_count": null,
   "metadata": {},
   "outputs": [],
   "source": [
    "# remove all repeating items \n",
    "import numpy as np\n",
    "a = [1,2,3,4,5]\n",
    "b = [4,5,6,7,8,9]\n",
    "result = np.setdiff1d(b,a)\n",
    "print(result)"
   ]
  },
  {
   "cell_type": "code",
   "execution_count": null,
   "metadata": {},
   "outputs": [],
   "source": [
    "# sum\n",
    "import numpy as np\n",
    "a = [1,2,3,4,5]\n",
    "a_1 = np.arange(4,6)\n",
    "b = [4,5,6,7,8,9]\n",
    "b_1 = np.arange(4,7)\n",
    "print(a_1,b_1)\n",
    "c = np.concatenate((a_1,b_1))\n",
    "sum = np.sum(c)\n",
    "print(sum)"
   ]
  },
  {
   "cell_type": "code",
   "execution_count": null,
   "metadata": {},
   "outputs": [],
   "source": [
    "# extract all odd numbers between 1 to 10\n",
    "import numpy as np\n",
    "array = np.arange(1,10)\n",
    "array\n",
    "\n"
   ]
  },
  {
   "cell_type": "code",
   "execution_count": null,
   "metadata": {},
   "outputs": [],
   "source": [
    "array[0::2]"
   ]
  },
  {
   "cell_type": "code",
   "execution_count": null,
   "metadata": {},
   "outputs": [],
   "source": [
    "array[0::2] = -1\n",
    "array"
   ]
  },
  {
   "cell_type": "code",
   "execution_count": null,
   "metadata": {},
   "outputs": [],
   "source": [
    "#convert one dimentional array to twodimentional with two rows\n",
    "import numpy as np\n",
    "array = np.array([1,2,3,4,5,6])\n",
    "newArray = array.reshape(2,3)\n",
    "print(newArray)\n"
   ]
  },
  {
   "cell_type": "code",
   "execution_count": null,
   "metadata": {},
   "outputs": [],
   "source": [
    "#stact two arrays vertically\n",
    "import numpy as np\n",
    "a = np.arange(9).reshape(3,3)\n",
    "b = np.arange(7,16).reshape(3,3)\n",
    "np.vstack((a,b))\n",
    "c = np.dot(a,b)\n",
    "sum = np.sum(c)\n",
    "print(sum)\n"
   ]
  },
  {
   "cell_type": "code",
   "execution_count": null,
   "metadata": {},
   "outputs": [],
   "source": []
  },
  {
   "cell_type": "code",
   "execution_count": null,
   "metadata": {},
   "outputs": [],
   "source": []
  }
 ]
}